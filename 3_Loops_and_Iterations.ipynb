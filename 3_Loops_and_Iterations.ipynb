{
 "cells": [
  {
   "cell_type": "markdown",
   "id": "e0b7f067",
   "metadata": {},
   "source": [
    "# 3. Loops and Iterations"
   ]
  },
  {
   "cell_type": "markdown",
   "id": "2499bcf1",
   "metadata": {},
   "source": [
    "## Indefinite loops"
   ]
  },
  {
   "cell_type": "markdown",
   "id": "c3b99c0f",
   "metadata": {},
   "source": [
    "Loops (repeated steps) have *iteration variables* that change each time through a loop. Often these *iteration variables* go through a sequence of numbers."
   ]
  },
  {
   "cell_type": "code",
   "execution_count": 1,
   "id": "d24459dc",
   "metadata": {},
   "outputs": [
    {
     "name": "stdout",
     "output_type": "stream",
     "text": [
      "5\n",
      "4\n",
      "3\n",
      "2\n",
      "1\n",
      "Blastoff!\n",
      "0\n"
     ]
    }
   ],
   "source": [
    "n = 5\n",
    "while n > 0:\n",
    "    print(n)\n",
    "    n = n - 1\n",
    "print(\"Blastoff!\")\n",
    "print(n)"
   ]
  },
  {
   "cell_type": "markdown",
   "id": "e9ceec16",
   "metadata": {},
   "source": [
    "Create the part of the children's nursey rythme...1, 2, 3, 4, 5....once I caught a fish alive."
   ]
  },
  {
   "cell_type": "code",
   "execution_count": 14,
   "id": "566629e0",
   "metadata": {},
   "outputs": [
    {
     "name": "stdout",
     "output_type": "stream",
     "text": [
      "1\n",
      "2\n",
      "3\n",
      "4\n",
      "5\n",
      "Once I caught a fish alive\n"
     ]
    }
   ],
   "source": [
    "n = 1\n",
    "while True:\n",
    "    if n == 6:\n",
    "        break\n",
    "    print(n)\n",
    "    n = n + 1\n",
    "print(\"Once I caught a fish alive\")"
   ]
  },
  {
   "cell_type": "markdown",
   "id": "acb7f752",
   "metadata": {},
   "source": [
    "Breaking out of a loop:"
   ]
  },
  {
   "cell_type": "code",
   "execution_count": 16,
   "id": "92c71885",
   "metadata": {},
   "outputs": [
    {
     "name": "stdout",
     "output_type": "stream",
     "text": [
      ">fine\n",
      "fine\n",
      ">line\n",
      "line\n",
      ">Done\n",
      "Done\n",
      ">done\n",
      "Done!\n"
     ]
    }
   ],
   "source": [
    "while True:\n",
    "    line = input('>')\n",
    "    if line == 'done' :\n",
    "        break\n",
    "    print(line)\n",
    "print('Done!')"
   ]
  },
  {
   "cell_type": "markdown",
   "id": "41722b12",
   "metadata": {},
   "source": [
    "- While loops are called *indefinite loops* because they keep going until a logical condition becomes **False**."
   ]
  },
  {
   "cell_type": "markdown",
   "id": "e604b6aa",
   "metadata": {},
   "source": [
    "## Definite loops"
   ]
  },
  {
   "cell_type": "markdown",
   "id": "5e8102c5",
   "metadata": {},
   "source": [
    "These loops use the *for* keyword. They will run a finite number of times. "
   ]
  },
  {
   "cell_type": "code",
   "execution_count": 17,
   "id": "56909d9a",
   "metadata": {},
   "outputs": [
    {
     "name": "stdout",
     "output_type": "stream",
     "text": [
      "5\n",
      "4\n",
      "3\n",
      "2\n",
      "1\n",
      "Blastoff!\n"
     ]
    }
   ],
   "source": [
    "for i in [5, 4, 3, 2, 1] :\n",
    "    print(i)\n",
    "print('Blastoff!')"
   ]
  },
  {
   "cell_type": "code",
   "execution_count": 18,
   "id": "220d4c3a",
   "metadata": {},
   "outputs": [
    {
     "name": "stdout",
     "output_type": "stream",
     "text": [
      "2\n",
      "1\n",
      "5\n"
     ]
    }
   ],
   "source": [
    "for i in [2, 1, 5]:\n",
    "    print(i)"
   ]
  },
  {
   "cell_type": "code",
   "execution_count": 20,
   "id": "79f5dcc4",
   "metadata": {},
   "outputs": [
    {
     "name": "stdout",
     "output_type": "stream",
     "text": [
      "Goodnight Stephanie\n",
      "Goodnight Flora\n",
      "Goodnight Penny\n",
      "\n",
      "Don't let the bedbugs bite!\n"
     ]
    }
   ],
   "source": [
    "friends = ['Stephanie', 'Flora', 'Penny']\n",
    "for friend in friends:\n",
    "    print('Goodnight', friend)\n",
    "print('')\n",
    "print(\"Don't let the bedbugs bite!\")"
   ]
  },
  {
   "cell_type": "markdown",
   "id": "642bda74",
   "metadata": {},
   "source": [
    "---"
   ]
  },
  {
   "cell_type": "markdown",
   "id": "4365588e",
   "metadata": {},
   "source": [
    "### Iterations: Loop Idioms"
   ]
  },
  {
   "cell_type": "markdown",
   "id": "9223e6a0",
   "metadata": {},
   "source": [
    "Loop idioms are patterns that are applied for loops. You want to solve a problem with a loop; looking for the largest, or smallest....or go through each one. \n",
    "\n",
    "The trick is ''knowing'' something about the whole loop when you are stuck writing code that only sees one entry at a time."
   ]
  },
  {
   "cell_type": "code",
   "execution_count": 1,
   "id": "2e4b885f",
   "metadata": {},
   "outputs": [
    {
     "name": "stdout",
     "output_type": "stream",
     "text": [
      "Before\n",
      "9\n",
      "41\n",
      "12\n",
      "3\n",
      "74\n",
      "15\n",
      "After\n"
     ]
    }
   ],
   "source": [
    "print('Before')\n",
    "for thing in [9, 41, 12, 3, 74, 15] :\n",
    "    print(thing)\n",
    "print('After')"
   ]
  },
  {
   "cell_type": "markdown",
   "id": "579da15f",
   "metadata": {},
   "source": [
    "What is the Largest Number?"
   ]
  },
  {
   "cell_type": "code",
   "execution_count": 6,
   "id": "0e41daf2",
   "metadata": {},
   "outputs": [
    {
     "name": "stdout",
     "output_type": "stream",
     "text": [
      "Before -1\n",
      "9 9\n",
      "41 41\n",
      "41 12\n",
      "41 3\n",
      "74 74\n",
      "74 15\n",
      "After 74\n"
     ]
    }
   ],
   "source": [
    "largest_so_far = -1\n",
    "print('Before', largest_so_far)\n",
    "for the_num in [9, 41, 12, 3, 74, 15] :\n",
    "    if the_num > largest_so_far :\n",
    "        largest_so_far = the_num\n",
    "    print(largest_so_far, the_num)\n",
    "\n",
    "print('After', largest_so_far)"
   ]
  },
  {
   "cell_type": "code",
   "execution_count": 9,
   "id": "beaf1055",
   "metadata": {},
   "outputs": [
    {
     "name": "stdout",
     "output_type": "stream",
     "text": [
      "Before: None\n",
      "Smallest: 3\n"
     ]
    }
   ],
   "source": [
    "smallest = None # None counts as a number\n",
    "print(\"Before:\", smallest)\n",
    "for itervar in [3, 41, 12, 9, 74, 15]:\n",
    "    if smallest is None or itervar < smallest:\n",
    "        smallest = itervar\n",
    "        break # error\n",
    "    print(\"Loop:\", itervar, smallest)\n",
    "print(\"Smallest:\", smallest)"
   ]
  },
  {
   "cell_type": "code",
   "execution_count": 11,
   "id": "74688899",
   "metadata": {},
   "outputs": [
    {
     "name": "stdout",
     "output_type": "stream",
     "text": [
      "Before: None\n",
      "Loop: 3 3\n",
      "Loop: 41 3\n",
      "Loop: 12 3\n",
      "Loop: 9 3\n",
      "Loop: 74 3\n",
      "Loop: 15 3\n",
      "Smallest: 3\n"
     ]
    }
   ],
   "source": [
    "smallest = None # None counts as a number\n",
    "print(\"Before:\", smallest)\n",
    "for itervar in [3, 41, 12, 9, 74, 15]:\n",
    "    if smallest is None or itervar < smallest:\n",
    "        smallest = itervar\n",
    "    print(\"Loop:\", itervar, smallest)\n",
    "print(\"Smallest:\", smallest)"
   ]
  },
  {
   "cell_type": "markdown",
   "id": "c18eb7d6",
   "metadata": {},
   "source": [
    "**Iterations: More Patterns**"
   ]
  },
  {
   "cell_type": "markdown",
   "id": "d7854a3f",
   "metadata": {},
   "source": [
    "Counting in a loop"
   ]
  },
  {
   "cell_type": "code",
   "execution_count": 12,
   "id": "90fb81c6",
   "metadata": {},
   "outputs": [
    {
     "name": "stdout",
     "output_type": "stream",
     "text": [
      "Before 0\n",
      "1 9\n",
      "2 41\n",
      "3 12\n",
      "4 3\n",
      "5 74\n",
      "6 15\n",
      "After 6\n"
     ]
    }
   ],
   "source": [
    "zork = 0\n",
    "print('Before', zork)\n",
    "for thing in [9, 41, 12, 3, 74, 15]:\n",
    "    zork = zork + 1\n",
    "    print(zork, thing)\n",
    "print('After', zork)"
   ]
  },
  {
   "cell_type": "code",
   "execution_count": 13,
   "id": "0c2e954f",
   "metadata": {},
   "outputs": [
    {
     "name": "stdout",
     "output_type": "stream",
     "text": [
      "Before 0\n",
      "9 9\n",
      "50 41\n",
      "62 12\n",
      "65 3\n",
      "139 74\n",
      "154 15\n",
      "After 154\n"
     ]
    }
   ],
   "source": [
    "zork = 0\n",
    "print('Before', zork)\n",
    "for thing in [9, 41, 12, 3, 74, 15]:\n",
    "    zork = zork + thing\n",
    "    print(zork, thing)\n",
    "print('After', zork)"
   ]
  },
  {
   "cell_type": "markdown",
   "id": "bb16d90b",
   "metadata": {},
   "source": [
    "The average"
   ]
  },
  {
   "cell_type": "code",
   "execution_count": 14,
   "id": "5d9fcbd2",
   "metadata": {},
   "outputs": [
    {
     "name": "stdout",
     "output_type": "stream",
     "text": [
      "Before 0 0\n",
      "1 9 9\n",
      "2 50 41\n",
      "3 62 12\n",
      "4 65 3\n",
      "5 139 74\n",
      "6 154 15\n",
      "After 6 154 25.666666666666668\n"
     ]
    }
   ],
   "source": [
    "count = 0\n",
    "sum = 0\n",
    "print('Before', count, sum)\n",
    "for value in [9, 41, 12, 3, 74, 15]:\n",
    "    count = count + 1\n",
    "    sum = sum + value\n",
    "    print(count, sum, value)\n",
    "print('After', count, sum, sum / count)"
   ]
  },
  {
   "cell_type": "markdown",
   "id": "aa28b204",
   "metadata": {},
   "source": [
    "Filtering in a loop"
   ]
  },
  {
   "cell_type": "code",
   "execution_count": 16,
   "id": "bb2bb793",
   "metadata": {},
   "outputs": [
    {
     "name": "stdout",
     "output_type": "stream",
     "text": [
      "Before\n",
      "Large number 41\n",
      "Large number 74\n",
      "After\n"
     ]
    }
   ],
   "source": [
    "# An If statement is used in the loop to catch / filter the values we are looking for.\n",
    "\n",
    "print('Before')\n",
    "for value in [9, 41, 12, 3, 74, 15] :\n",
    "    if value > 20:\n",
    "        print('Large number', value)\n",
    "print('After')"
   ]
  },
  {
   "cell_type": "markdown",
   "id": "62fa700f",
   "metadata": {},
   "source": [
    "Search using a Boolean variable"
   ]
  },
  {
   "cell_type": "code",
   "execution_count": 17,
   "id": "7e4f9931",
   "metadata": {},
   "outputs": [
    {
     "name": "stdout",
     "output_type": "stream",
     "text": [
      "Before False\n",
      "False 9\n",
      "False 41\n",
      "False 12\n",
      "True 3\n",
      "True 74\n",
      "True 15\n",
      "After True\n"
     ]
    }
   ],
   "source": [
    "found = False\n",
    "print('Before', found)\n",
    "for value in [9, 41, 12, 3, 74, 15]:\n",
    "    if value == 3 :\n",
    "        found = True\n",
    "    print(found, value)\n",
    "print('After', found)"
   ]
  },
  {
   "cell_type": "code",
   "execution_count": 41,
   "id": "285e7fae",
   "metadata": {},
   "outputs": [
    {
     "name": "stdout",
     "output_type": "stream",
     "text": [
      "Before None\n",
      "None 1\n",
      "None 5\n",
      "None 8\n",
      "True 0\n",
      "After True\n"
     ]
    }
   ],
   "source": [
    "found = None\n",
    "print('Before', found)\n",
    "for value in [1, 5, 8, 0, 20]:\n",
    "    if value == 0 :\n",
    "        found = True\n",
    "        print(found, value)\n",
    "        break\n",
    "    print(found, value)\n",
    "print('After', found)"
   ]
  },
  {
   "cell_type": "code",
   "execution_count": 44,
   "id": "e9ae4a46",
   "metadata": {},
   "outputs": [
    {
     "name": "stdout",
     "output_type": "stream",
     "text": [
      "Before\n",
      "9 9\n",
      "9 41\n",
      "9 12\n",
      "3 3\n",
      "3 74\n",
      "3 15\n",
      "AFter 3\n"
     ]
    }
   ],
   "source": [
    "smallest = None\n",
    "print('Before')\n",
    "for value in [9, 41, 12, 3, 74, 15] :\n",
    "    if smallest is None :\n",
    "        smallest = value\n",
    "    elif value < smallest :\n",
    "        smallest = value\n",
    "    print(smallest, value)\n",
    "print('AFter', smallest)"
   ]
  },
  {
   "cell_type": "code",
   "execution_count": 56,
   "id": "98a84ec9",
   "metadata": {},
   "outputs": [
    {
     "name": "stdout",
     "output_type": "stream",
     "text": [
      "Before\n",
      "9 9\n",
      "9 41\n",
      "9 12\n",
      "3 3\n",
      "3 74\n",
      "0 0\n",
      "0 15\n",
      "After 0\n"
     ]
    }
   ],
   "source": [
    "smallest = None\n",
    "print('Before')\n",
    "for value in [9, 41, 12, 3, 74, 0, 15] :\n",
    "    if smallest is None : #demands quality in the variables. Use sparingly.\n",
    "        smallest = value\n",
    "    elif value < smallest :\n",
    "        smallest = value\n",
    "    print(smallest, value)\n",
    "print('After', smallest)"
   ]
  },
  {
   "cell_type": "code",
   "execution_count": null,
   "id": "79e32ebf",
   "metadata": {},
   "outputs": [],
   "source": []
  }
 ],
 "metadata": {
  "kernelspec": {
   "display_name": "Python 3 (ipykernel)",
   "language": "python",
   "name": "python3"
  },
  "language_info": {
   "codemirror_mode": {
    "name": "ipython",
    "version": 3
   },
   "file_extension": ".py",
   "mimetype": "text/x-python",
   "name": "python",
   "nbconvert_exporter": "python",
   "pygments_lexer": "ipython3",
   "version": "3.9.12"
  }
 },
 "nbformat": 4,
 "nbformat_minor": 5
}
