{
 "cells": [
  {
   "cell_type": "markdown",
   "id": "879e9171",
   "metadata": {},
   "source": [
    "# Reading files in python"
   ]
  },
  {
   "cell_type": "markdown",
   "id": "91616b82",
   "metadata": {},
   "source": [
    "- handle = open(filename, mode)\n",
    "- mode is optional and should be 'r' if we are planning to read the file and 'w' if we are going to write to the file."
   ]
  },
  {
   "cell_type": "code",
   "execution_count": 9,
   "id": "7e853a5a",
   "metadata": {},
   "outputs": [
    {
     "name": "stdout",
     "output_type": "stream",
     "text": [
      "<_io.TextIOWrapper name='mock_data.csv' mode='r' encoding='UTF-8'>\n"
     ]
    }
   ],
   "source": [
    "fhand = open('mock_data.csv')\n",
    "print(fhand)"
   ]
  },
  {
   "cell_type": "markdown",
   "id": "0599ce66",
   "metadata": {},
   "source": [
    "## The newline Character"
   ]
  },
  {
   "cell_type": "code",
   "execution_count": 10,
   "id": "c04bed96",
   "metadata": {},
   "outputs": [
    {
     "data": {
      "text/plain": [
       "'Hello\\nWorld!'"
      ]
     },
     "execution_count": 10,
     "metadata": {},
     "output_type": "execute_result"
    }
   ],
   "source": [
    "stuff = 'Hello\\nWorld!'\n",
    "stuff"
   ]
  },
  {
   "cell_type": "code",
   "execution_count": 11,
   "id": "acd9181c",
   "metadata": {},
   "outputs": [
    {
     "name": "stdout",
     "output_type": "stream",
     "text": [
      "Hello\n",
      "World!\n"
     ]
    }
   ],
   "source": [
    "print(stuff)"
   ]
  },
  {
   "cell_type": "code",
   "execution_count": 12,
   "id": "2ba3d796",
   "metadata": {},
   "outputs": [
    {
     "name": "stdout",
     "output_type": "stream",
     "text": [
      "X\n",
      "Y\n"
     ]
    }
   ],
   "source": [
    "stuff = 'X\\nY'\n",
    "print(stuff)"
   ]
  },
  {
   "cell_type": "code",
   "execution_count": 13,
   "id": "7228f8b4",
   "metadata": {},
   "outputs": [
    {
     "data": {
      "text/plain": [
       "3"
      ]
     },
     "execution_count": 13,
     "metadata": {},
     "output_type": "execute_result"
    }
   ],
   "source": [
    "len(stuff) # escape chatacter is counted as one chacter."
   ]
  },
  {
   "cell_type": "markdown",
   "id": "e66aaff0",
   "metadata": {},
   "source": [
    "## File handle as a sequence"
   ]
  },
  {
   "cell_type": "code",
   "execution_count": 14,
   "id": "d6ad4c40",
   "metadata": {},
   "outputs": [
    {
     "name": "stdout",
     "output_type": "stream",
     "text": [
      "id,first_name,last_name,email,Sex,ip_address\n",
      "\n",
      "1,Reid,Byrd,rbyrd0@washingtonpost.com,Male,17.216.170.57\n",
      "\n",
      "2,Morag,Waleworke,dwaleworke1@ocn.ne.jp,Female,149.30.39.43\n",
      "\n",
      "3,Nesta,Buller,nbuller2@nature.com,Female,218.47.53.1\n",
      "\n",
      "4,Ede,Maxwaile,emaxwaile3@yahoo.co.jp,Female,201.54.69.242\n",
      "\n",
      "5,Dorothee,Ramshay,dramshay4@technorati.com,Female,203.52.162.49\n",
      "\n",
      "6,Ian,Lympany,ilympany5@netscape.com,Male,95.230.178.8\n",
      "\n",
      "7,Erasmus,Wetton,ewetton6@uol.com.br,Male,235.220.20.190\n",
      "\n",
      "8,Norah,McBay,nmcbay7@ucsd.edu,Female,38.52.135.214\n",
      "\n",
      "9,Jarrod,Autie,jautie8@cnet.com,Male,88.112.94.188\n",
      "\n",
      "10,Ki,Ingold,kingold9@cpanel.net,Female,207.162.24.86\n",
      "\n",
      "11,Sanson,Shevell,sshevella@marriott.com,Male,146.106.65.19\n",
      "\n",
      "12,Jeff,Pillinger,jpillingerb@surveymonkey.com,Male,140.118.138.42\n",
      "\n",
      "13,Bili,Lorey,bloreyc@npr.org,Female,134.203.228.67\n",
      "\n",
      "14,Avrom,Dolan,adoland@booking.com,Male,95.167.84.233\n",
      "\n",
      "15,Adolphus,Ayshford,aayshforde@etsy.com,Male,221.223.188.45\n",
      "\n",
      "16,Jinny,Flea,jfleaf@nature.com,Female,35.182.227.209\n",
      "\n",
      "17,Sibella,Moulin,smouling@ibm.com,Female,216.1.236.98\n",
      "\n",
      "18,Falkner,Mawdsley,fmawdsleyh@bloglovin.com,Male,77.125.55.188\n",
      "\n",
      "19,Melody,Brodie,mbrodiei@dropbox.com,Female,3.176.154.116\n",
      "\n",
      "20,Sinclare,Kluss,sklussj@utexas.edu,Male,54.177.169.193\n",
      "\n"
     ]
    }
   ],
   "source": [
    "fhand = open('mock_data.csv')\n",
    "for line in fhand:\n",
    "    print(line)"
   ]
  },
  {
   "cell_type": "markdown",
   "id": "2e3f1e7d",
   "metadata": {},
   "source": [
    "Counting lines in a file"
   ]
  },
  {
   "cell_type": "code",
   "execution_count": 15,
   "id": "96d83ff3",
   "metadata": {},
   "outputs": [
    {
     "name": "stdout",
     "output_type": "stream",
     "text": [
      "Line Count:  21\n"
     ]
    }
   ],
   "source": [
    "fhand = open('mock_data.csv') #program to count the number of lines in a file\n",
    "count = 0\n",
    "for line in fhand:\n",
    "    count = count + 1\n",
    "print('Line Count: ', count)"
   ]
  },
  {
   "cell_type": "markdown",
   "id": "33f1a8d3",
   "metadata": {},
   "source": [
    "## Searching through a file"
   ]
  },
  {
   "cell_type": "code",
   "execution_count": 24,
   "id": "4908cc45",
   "metadata": {},
   "outputs": [
    {
     "name": "stdout",
     "output_type": "stream",
     "text": [
      "10,Ki,Ingold,kingold9@cpanel.net,Female,207.162.24.86\n",
      "\n"
     ]
    }
   ],
   "source": [
    "fhand = open('mock_data.csv')\n",
    "for line in fhand:\n",
    "    if line.startswith('10'):\n",
    "        print(line) # Prints based on the first column ID"
   ]
  },
  {
   "cell_type": "markdown",
   "id": "eef9d4ad",
   "metadata": {},
   "source": [
    "---"
   ]
  }
 ],
 "metadata": {
  "kernelspec": {
   "display_name": "Python 3 (ipykernel)",
   "language": "python",
   "name": "python3"
  },
  "language_info": {
   "codemirror_mode": {
    "name": "ipython",
    "version": 3
   },
   "file_extension": ".py",
   "mimetype": "text/x-python",
   "name": "python",
   "nbconvert_exporter": "python",
   "pygments_lexer": "ipython3",
   "version": "3.9.12"
  }
 },
 "nbformat": 4,
 "nbformat_minor": 5
}
