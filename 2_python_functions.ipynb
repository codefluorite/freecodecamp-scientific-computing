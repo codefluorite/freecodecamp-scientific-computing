{
 "cells": [
  {
   "cell_type": "markdown",
   "id": "2b9d1e92",
   "metadata": {},
   "source": [
    "# 2. Python functions"
   ]
  },
  {
   "cell_type": "markdown",
   "id": "9d725c21",
   "metadata": {},
   "source": [
    "Store (and reused) steps.\n",
    "\n",
    "The *def* function means define function. Def remembers the code so it is the store phase. We treat the built-in function names as ''new'' words.\n",
    "\n",
    "There is the defining phase which remembers, then the invoking phase which invokes the function."
   ]
  },
  {
   "cell_type": "code",
   "execution_count": 2,
   "id": "b4d40e45",
   "metadata": {},
   "outputs": [
    {
     "name": "stdout",
     "output_type": "stream",
     "text": [
      "w\n"
     ]
    }
   ],
   "source": [
    "big = max('Hello world')\n",
    "\n",
    "print(big)"
   ]
  },
  {
   "cell_type": "code",
   "execution_count": 4,
   "id": "71156591",
   "metadata": {},
   "outputs": [
    {
     "name": "stdout",
     "output_type": "stream",
     "text": [
      " \n"
     ]
    }
   ],
   "source": [
    "tiny = min('Hello world')\n",
    "\n",
    "print(tiny) #prints a blank"
   ]
  },
  {
   "cell_type": "code",
   "execution_count": 7,
   "id": "d19c9b45",
   "metadata": {},
   "outputs": [
    {
     "name": "stdout",
     "output_type": "stream",
     "text": [
      "0.99\n"
     ]
    }
   ],
   "source": [
    "#Type conversions\n",
    "\n",
    "print(float(99) / 100)"
   ]
  },
  {
   "cell_type": "code",
   "execution_count": 10,
   "id": "89a048cd",
   "metadata": {},
   "outputs": [
    {
     "name": "stdout",
     "output_type": "stream",
     "text": [
      "<class 'str'>\n",
      " \n",
      "<class 'int'>\n",
      " \n",
      "124\n"
     ]
    }
   ],
   "source": [
    "# String conversions into int\n",
    "\n",
    "sval = '123'\n",
    "print(type(sval))\n",
    "print(' ')\n",
    "ival= int(sval)\n",
    "print(type(ival))\n",
    "print(' ')\n",
    "print(ival +1)"
   ]
  },
  {
   "cell_type": "markdown",
   "id": "bf9c3775",
   "metadata": {},
   "source": [
    "# Building functions in python"
   ]
  },
  {
   "cell_type": "code",
   "execution_count": 12,
   "id": "d78e555d",
   "metadata": {},
   "outputs": [
    {
     "name": "stdout",
     "output_type": "stream",
     "text": [
      "ABC\n",
      "Zap\n",
      "ABC\n"
     ]
    }
   ],
   "source": [
    "def fred():       # Remembering, but not invoking\n",
    "    print(\"Zap\")\n",
    "def jane():\n",
    "    print(\"ABC\")\n",
    "\n",
    "jane()    # Invoking\n",
    "fred()    # Invoking\n",
    "jane()    # Invoking"
   ]
  },
  {
   "cell_type": "code",
   "execution_count": 13,
   "id": "c0c8b4c7",
   "metadata": {},
   "outputs": [
    {
     "name": "stdout",
     "output_type": "stream",
     "text": [
      "The planets in order are:\n",
      " \n",
      "Mercury\n",
      "Venus\n",
      "Earth\n",
      "Mars\n",
      "Jupiter\n",
      "Saturn\n",
      "Uranus\n",
      "Neptune\n"
     ]
    }
   ],
   "source": [
    "def the_planets():\n",
    "    print('Mercury')\n",
    "    print('Venus')\n",
    "    print('Earth')\n",
    "    print('Mars')\n",
    "    print('Jupiter')\n",
    "    print('Saturn')\n",
    "    print('Uranus')\n",
    "    print('Neptune')\n",
    "    \n",
    "print('The planets in order are:')\n",
    "print(' ')\n",
    "the_planets()"
   ]
  },
  {
   "cell_type": "code",
   "execution_count": 43,
   "id": "57acd932",
   "metadata": {},
   "outputs": [
    {
     "name": "stdout",
     "output_type": "stream",
     "text": [
      "Goodnight in Estonian is.... \n",
      "Head öd\n",
      "\n",
      "Goodnight in Dutch is.... \n",
      "Welterusten\n",
      "\n",
      "Goodnight in Icelandic is.... \n",
      "Góða Nótt\n",
      "\n",
      "Welterusten\n",
      "None\n"
     ]
    }
   ],
   "source": [
    "def goodnight(language):\n",
    "    if language == \"NL\":\n",
    "        print(\"Welterusten\")\n",
    "    elif language == \"IS\":\n",
    "        print(\"Góða Nótt\")\n",
    "    elif language == 'EST':\n",
    "        print(\"Head öd\")\n",
    "    else:\n",
    "        print(\"Goodnight\")\n",
    "        \n",
    "print(\"Goodnight in Estonian is.... \") \n",
    "goodnight(\"EST\")\n",
    "print( '')\n",
    "print(\"Goodnight in Dutch is.... \") \n",
    "goodnight(\"NL\")\n",
    "print( '')\n",
    "print(\"Goodnight in Icelandic is.... \") \n",
    "goodnight(\"IS\")\n",
    "print( '')"
   ]
  },
  {
   "cell_type": "code",
   "execution_count": 36,
   "id": "8c799211",
   "metadata": {},
   "outputs": [
    {
     "name": "stdout",
     "output_type": "stream",
     "text": [
      "Hello Stephanie\n",
      "Hello Flora\n",
      "Hello Penny\n"
     ]
    }
   ],
   "source": [
    "# Return values\n",
    "\n",
    "def greet():\n",
    "    return \"Hello\"\n",
    "\n",
    "print(greet(), \"Stephanie\")\n",
    "print(greet(), \"Flora\")\n",
    "print(greet(), \"Penny\")"
   ]
  },
  {
   "cell_type": "code",
   "execution_count": 46,
   "id": "61fa2a3d",
   "metadata": {},
   "outputs": [
    {
     "name": "stdout",
     "output_type": "stream",
     "text": [
      "Welterusten Penny\n",
      "Góða Nótt Flora\n",
      "Head öd Stephanie\n"
     ]
    }
   ],
   "source": [
    "def goodnight(lang):\n",
    "    if lang == 'NL':\n",
    "        return 'Welterusten'\n",
    "    elif lang == 'IS':\n",
    "        return 'Góða Nótt'\n",
    "    elif lang == 'EST':\n",
    "        return 'Head öd'\n",
    "    else:\n",
    "        return 'Goodnight'\n",
    "    \n",
    "print(goodnight('NL'),\"Penny\")\n",
    "print(goodnight('IS'),\"Flora\")\n",
    "print(goodnight('EST'),\"Stephanie\")"
   ]
  },
  {
   "cell_type": "code",
   "execution_count": null,
   "id": "d16ec953",
   "metadata": {},
   "outputs": [],
   "source": []
  }
 ],
 "metadata": {
  "kernelspec": {
   "display_name": "Python 3 (ipykernel)",
   "language": "python",
   "name": "python3"
  },
  "language_info": {
   "codemirror_mode": {
    "name": "ipython",
    "version": 3
   },
   "file_extension": ".py",
   "mimetype": "text/x-python",
   "name": "python",
   "nbconvert_exporter": "python",
   "pygments_lexer": "ipython3",
   "version": "3.9.12"
  }
 },
 "nbformat": 4,
 "nbformat_minor": 5
}
